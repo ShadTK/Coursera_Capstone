{
    "nbformat_minor": 1, 
    "cells": [
        {
            "source": "# Introduction/Business Problem", 
            "cell_type": "markdown", 
            "metadata": {
                "collapsed": true
            }
        }, 
        {
            "source": "Names are important. More often then not, when a project for a new business ventures starts, the group will define a \"Working Title\" to refer to it, and that title may or may not end up becoming the actual name later on. But would that be wise?\nWhat if we could have some more insight into naming conventions before choosing a definitive name for our business? Would that make any difference?\nAccording to this article[1], \"A study on behalf of the Society of Personal and Social Psychology, Inc. discovered stocks with easier to pronounce names outperformed those with names more difficult to pronounce\". That is something to take in consideration. So what other insights can we take from this?\nIn this article, we will explore a localized study of names used in business for the region of Toronto, Canada. We will look into the naming conventions of Food establishments, and drive our conclusions from there.\n\n*[1] Pozin, Ilya. \"Does the Name of Your Company Matter?\" Accessed on July 4 2019. https://www.entrepreneur.com/article/237643*\n", 
            "cell_type": "markdown", 
            "metadata": {}
        }, 
        {
            "source": "# Data", 
            "cell_type": "markdown", 
            "metadata": {}
        }, 
        {
            "source": "For this article, we shall use the Foursquare API in order to get data on food buisiness names and ratings around the City of Toronto. We will use Word Clouds to visualize the most common words used in each category. We will then filter and sort the ratings to see business with high ratings, and analyzie the difference.\nWe will also evaluate the correlation between word count, character count, and rating of the business for a category, in order to confirm the hypothesis brought up on the article mentioned in the introductory session.\n", 
            "cell_type": "markdown", 
            "metadata": {}
        }, 
        {
            "source": "", 
            "cell_type": "code", 
            "metadata": {}, 
            "outputs": [], 
            "execution_count": null
        }
    ], 
    "metadata": {
        "kernelspec": {
            "display_name": "Python 3.6", 
            "name": "python3", 
            "language": "python"
        }, 
        "language_info": {
            "mimetype": "text/x-python", 
            "nbconvert_exporter": "python", 
            "version": "3.6.8", 
            "name": "python", 
            "pygments_lexer": "ipython3", 
            "file_extension": ".py", 
            "codemirror_mode": {
                "version": 3, 
                "name": "ipython"
            }
        }
    }, 
    "nbformat": 4
}